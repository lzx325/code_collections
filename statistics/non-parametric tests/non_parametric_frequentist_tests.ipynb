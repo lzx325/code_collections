{
 "cells": [
  {
   "cell_type": "code",
   "execution_count": 2,
   "id": "c256bf0c",
   "metadata": {},
   "outputs": [],
   "source": [
    "import numpy as np\n",
    "import scipy\n",
    "import scipy.stats as stats\n",
    "from scipy.stats import rankdata, kruskal\n",
    "from collections import Counter\n",
    "from itertools import combinations,chain\n",
    "import pandas as pd"
   ]
  },
  {
   "cell_type": "markdown",
   "id": "125baed2",
   "metadata": {},
   "source": [
    "# Mann-Whitney U Test"
   ]
  },
  {
   "cell_type": "code",
   "execution_count": 3,
   "id": "8f0bec76",
   "metadata": {},
   "outputs": [
    {
     "data": {
      "text/plain": [
       "(array([10, 11, 12, 13, 14, 15, 16, 17, 18, 19, 20, 21, 22, 23, 24, 25, 26]),\n",
       " array([0.01428571, 0.02857143, 0.05714286, 0.1       , 0.17142857,\n",
       "        0.24285714, 0.34285714, 0.44285714, 0.55714286, 0.65714286,\n",
       "        0.75714286, 0.82857143, 0.9       , 0.94285714, 0.97142857,\n",
       "        0.98571429, 1.        ]))"
      ]
     },
     "execution_count": 3,
     "metadata": {},
     "output_type": "execute_result"
    }
   ],
   "source": [
    "def get_MW_frequency_table(n,m):\n",
    "    assert n<=m\n",
    "    rank_sums=[sum(tup) for tup in combinations(range(1,n+m+1),n)]\n",
    "    value,counts=np.unique(rank_sums,return_counts=True)\n",
    "    freq=counts/counts.sum()\n",
    "    return value,freq\n",
    "\n",
    "value,freq=get_MW_frequency_table(4,4)\n",
    "value,freq.cumsum()"
   ]
  },
  {
   "cell_type": "code",
   "execution_count": 12,
   "id": "9fe286c9",
   "metadata": {},
   "outputs": [
    {
     "name": "stdout",
     "output_type": "stream",
     "text": [
      "1.0\n",
      "15.0\n"
     ]
    }
   ],
   "source": [
    "sample1=[1,2,3,5]\n",
    "sample2=[4,6,7,8]\n",
    "stats.mannwhitneyu(sample1,sample2,use_continuity=False,alternative=\"less\",method=\"exact\")\n",
    "sz1=len(sample1)\n",
    "sz2=len(sample2)\n",
    "print(np.sum(sample1)-sz2*(sz2+1)/2)\n",
    "print(np.sum(sample2)-sz1*(sz1+1)/2)"
   ]
  },
  {
   "cell_type": "code",
   "execution_count": 23,
   "id": "a6dfde63",
   "metadata": {
    "scrolled": true
   },
   "outputs": [
    {
     "data": {
      "text/html": [
       "<div>\n",
       "<style scoped>\n",
       "    .dataframe tbody tr th:only-of-type {\n",
       "        vertical-align: middle;\n",
       "    }\n",
       "\n",
       "    .dataframe tbody tr th {\n",
       "        vertical-align: top;\n",
       "    }\n",
       "\n",
       "    .dataframe thead th {\n",
       "        text-align: right;\n",
       "    }\n",
       "</style>\n",
       "<table border=\"1\" class=\"dataframe\">\n",
       "  <thead>\n",
       "    <tr style=\"text-align: right;\">\n",
       "      <th></th>\n",
       "      <th>value</th>\n",
       "      <th>freq</th>\n",
       "    </tr>\n",
       "  </thead>\n",
       "  <tbody>\n",
       "    <tr>\n",
       "      <th>0</th>\n",
       "      <td>0</td>\n",
       "      <td>0.000488</td>\n",
       "    </tr>\n",
       "    <tr>\n",
       "      <th>1</th>\n",
       "      <td>1</td>\n",
       "      <td>0.000977</td>\n",
       "    </tr>\n",
       "    <tr>\n",
       "      <th>2</th>\n",
       "      <td>2</td>\n",
       "      <td>0.001465</td>\n",
       "    </tr>\n",
       "    <tr>\n",
       "      <th>3</th>\n",
       "      <td>3</td>\n",
       "      <td>0.002441</td>\n",
       "    </tr>\n",
       "    <tr>\n",
       "      <th>4</th>\n",
       "      <td>4</td>\n",
       "      <td>0.003418</td>\n",
       "    </tr>\n",
       "    <tr>\n",
       "      <th>5</th>\n",
       "      <td>5</td>\n",
       "      <td>0.004883</td>\n",
       "    </tr>\n",
       "    <tr>\n",
       "      <th>6</th>\n",
       "      <td>6</td>\n",
       "      <td>0.006836</td>\n",
       "    </tr>\n",
       "    <tr>\n",
       "      <th>7</th>\n",
       "      <td>7</td>\n",
       "      <td>0.009277</td>\n",
       "    </tr>\n",
       "    <tr>\n",
       "      <th>8</th>\n",
       "      <td>8</td>\n",
       "      <td>0.012207</td>\n",
       "    </tr>\n",
       "    <tr>\n",
       "      <th>9</th>\n",
       "      <td>9</td>\n",
       "      <td>0.016113</td>\n",
       "    </tr>\n",
       "    <tr>\n",
       "      <th>10</th>\n",
       "      <td>10</td>\n",
       "      <td>0.020996</td>\n",
       "    </tr>\n",
       "    <tr>\n",
       "      <th>11</th>\n",
       "      <td>11</td>\n",
       "      <td>0.026855</td>\n",
       "    </tr>\n",
       "    <tr>\n",
       "      <th>12</th>\n",
       "      <td>12</td>\n",
       "      <td>0.033691</td>\n",
       "    </tr>\n",
       "    <tr>\n",
       "      <th>13</th>\n",
       "      <td>13</td>\n",
       "      <td>0.041504</td>\n",
       "    </tr>\n",
       "    <tr>\n",
       "      <th>14</th>\n",
       "      <td>14</td>\n",
       "      <td>0.050781</td>\n",
       "    </tr>\n",
       "    <tr>\n",
       "      <th>15</th>\n",
       "      <td>15</td>\n",
       "      <td>0.061523</td>\n",
       "    </tr>\n",
       "    <tr>\n",
       "      <th>16</th>\n",
       "      <td>16</td>\n",
       "      <td>0.073730</td>\n",
       "    </tr>\n",
       "    <tr>\n",
       "      <th>17</th>\n",
       "      <td>17</td>\n",
       "      <td>0.087402</td>\n",
       "    </tr>\n",
       "    <tr>\n",
       "      <th>18</th>\n",
       "      <td>18</td>\n",
       "      <td>0.103027</td>\n",
       "    </tr>\n",
       "    <tr>\n",
       "      <th>19</th>\n",
       "      <td>19</td>\n",
       "      <td>0.120117</td>\n",
       "    </tr>\n",
       "  </tbody>\n",
       "</table>\n",
       "</div>"
      ],
      "text/plain": [
       "    value      freq\n",
       "0       0  0.000488\n",
       "1       1  0.000977\n",
       "2       2  0.001465\n",
       "3       3  0.002441\n",
       "4       4  0.003418\n",
       "5       5  0.004883\n",
       "6       6  0.006836\n",
       "7       7  0.009277\n",
       "8       8  0.012207\n",
       "9       9  0.016113\n",
       "10     10  0.020996\n",
       "11     11  0.026855\n",
       "12     12  0.033691\n",
       "13     13  0.041504\n",
       "14     14  0.050781\n",
       "15     15  0.061523\n",
       "16     16  0.073730\n",
       "17     17  0.087402\n",
       "18     18  0.103027\n",
       "19     19  0.120117"
      ]
     },
     "execution_count": 23,
     "metadata": {},
     "output_type": "execute_result"
    }
   ],
   "source": [
    "def get_rank_sum_frequency_table(n):\n",
    "    s=range(1,n+1)\n",
    "    powerset=chain.from_iterable(combinations(s, r) for r in range(n+1))\n",
    "    signed_ranks=list()\n",
    "    for subset in powerset:\n",
    "        signed_ranks.append(sum(subset))\n",
    "    value,counts=np.unique(signed_ranks,return_counts=True)\n",
    "    freq=counts/counts.sum()\n",
    "    return value,freq\n",
    "value,freq=get_rank_sum_frequency_table(11)\n",
    "pd.DataFrame({\"value\":value,\"freq\":freq.cumsum()}).iloc[:20]\n"
   ]
  },
  {
   "cell_type": "code",
   "execution_count": 25,
   "id": "a571cfc0",
   "metadata": {},
   "outputs": [
    {
     "data": {
      "text/plain": [
       "WilcoxonResult(statistic=1.0, pvalue=0.001953125)"
      ]
     },
     "execution_count": 25,
     "metadata": {},
     "output_type": "execute_result"
    }
   ],
   "source": [
    "difference_arr=[2,4,10,12,16,15,4,27,9,-1,15]\n",
    "stats.wilcoxon(difference_arr,mode=\"exact\")"
   ]
  },
  {
   "cell_type": "markdown",
   "id": "31cb0be5",
   "metadata": {},
   "source": [
    "# Kruskal-Wallis H-Test"
   ]
  },
  {
   "cell_type": "code",
   "execution_count": 3,
   "id": "c78f23ab",
   "metadata": {},
   "outputs": [],
   "source": [
    "lab_data=pd.read_csv(\"lab_data.csv\")"
   ]
  },
  {
   "cell_type": "code",
   "execution_count": 11,
   "id": "a3891798",
   "metadata": {},
   "outputs": [
    {
     "name": "stdout",
     "output_type": "stream",
     "text": [
      "29.507565392354127\n"
     ]
    }
   ],
   "source": [
    "lab_data_ranks=rankdata(lab_data.values.ravel()).reshape(*lab_data.shape)\n",
    "N=lab_data_ranks.size\n",
    "J=lab_data_ranks.shape[0]\n",
    "averaged_ranks=lab_data_ranks.mean(axis=0)\n",
    "SSB=np.sum(J*(averaged_ranks-(N+1)/2)**2)\n",
    "K=12/(N*(N+1))*SSB\n",
    "print(K)"
   ]
  },
  {
   "cell_type": "code",
   "execution_count": 10,
   "id": "7c4d04f5",
   "metadata": {},
   "outputs": [
    {
     "data": {
      "text/plain": [
       "KruskalResult(statistic=29.605984376371413, pvalue=4.6701021928163535e-05)"
      ]
     },
     "execution_count": 10,
     "metadata": {},
     "output_type": "execute_result"
    }
   ],
   "source": [
    "sample_list=[arr.squeeze() for arr in np.array_split(lab_data.values,7,axis=1)]\n",
    "kruskal(*sample_list)"
   ]
  }
 ],
 "metadata": {
  "kernelspec": {
   "display_name": "Python 3 (ipykernel)",
   "language": "python",
   "name": "python3"
  },
  "language_info": {
   "codemirror_mode": {
    "name": "ipython",
    "version": 3
   },
   "file_extension": ".py",
   "mimetype": "text/x-python",
   "name": "python",
   "nbconvert_exporter": "python",
   "pygments_lexer": "ipython3",
   "version": "3.9.7"
  }
 },
 "nbformat": 4,
 "nbformat_minor": 5
}

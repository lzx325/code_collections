{
 "cells": [
  {
   "cell_type": "code",
   "execution_count": 2,
   "metadata": {},
   "outputs": [],
   "source": [
    "library(survival)"
   ]
  },
  {
   "cell_type": "markdown",
   "metadata": {},
   "source": [
    "# KM Model with AIDS data"
   ]
  },
  {
   "cell_type": "code",
   "execution_count": 3,
   "metadata": {},
   "outputs": [
    {
     "data": {
      "image/png": "[encoded data removed]",
      "text/plain": [
       "plot without title"
      ]
     },
     "metadata": {
      "image/png": {
       "height": 420,
       "width": 420
      }
     },
     "output_type": "display_data"
    }
   ],
   "source": [
    "AIDSsurv=read.csv(\"survival_data1.csv\")\n",
    "km.model=survfit(Surv(AIDSsurv$Time,AIDSsurv$Death)~1, type=\"kaplan-meier\")\n",
    "plot(km.model,conf.int=TRUE,las=1,mark.time=TRUE)"
   ]
  },
  {
   "cell_type": "code",
   "execution_count": 8,
   "metadata": {},
   "outputs": [
    {
     "name": "stdout",
     "output_type": "stream",
     "text": [
      "Call:\n",
      "survdiff(formula = Surv(AIDSsurv2$Time, AIDSsurv2$Death) ~ AIDSsurv2$Over40)\n",
      "\n",
      "                    N Observed Expected (O-E)^2/E (O-E)^2/V\n",
      "AIDSsurv2$Over40=0 12       10    12.84      0.63      3.83\n",
      "AIDSsurv2$Over40=1  8        6     3.16      2.56      3.83\n",
      "\n",
      " Chisq= 3.8  on 1 degrees of freedom, p= 0.05 \n"
     ]
    },
    {
     "data": {
      "image/png": "[encoded data removed]",
      "text/plain": [
       "plot without title"
      ]
     },
     "metadata": {
      "image/png": {
       "height": 420,
       "width": 420
      }
     },
     "output_type": "display_data"
    }
   ],
   "source": [
    "AIDSsurv2=read.csv(\"survival_data2.csv\")\n",
    "km.model2=survfit(\n",
    "    Surv(AIDSsurv2$Time,AIDSsurv2$Death)~AIDSsurv2$Over40,\n",
    "    type=\"kaplan-meier\"\n",
    ")\n",
    "plot(km.model2,conf.int=FALSE,col=c(\"red\",\"blue\"),las=1,lwd=2,mark.time=TRUE)\n",
    "sd_result=survdiff(Surv(AIDSsurv2$Time,AIDSsurv2$Death)~AIDSsurv2$Over40) # logrank test\n",
    "print(sd_result)"
   ]
  },
  {
   "cell_type": "markdown",
   "metadata": {},
   "source": [
    "# Cox PH Model with Stanford Heart Transplant Data"
   ]
  },
  {
   "cell_type": "markdown",
   "metadata": {},
   "source": [
    "## Prepare dataset"
   ]
  },
  {
   "cell_type": "code",
   "execution_count": 15,
   "metadata": {},
   "outputs": [],
   "source": [
    "MisMatchLevel<-cut(stanford2$t5, breaks=3, labels = c(0, 1, 2))\n",
    "Over40<-cut(stanford2$age, breaks=c(-Inf,40,Inf), labels=c(0,1))\n",
    "stan<-cbind(stanford2, MisMatchLevel, Over40)\n",
    "\n",
    "# remove any rows that have missing values (this part important for anova)\n",
    "numbermissing<-apply(stan, 1, function(x) sum(is.na(x)))\n",
    "nonemissing<-numbermissing==0\n",
    "Stan<-stan[nonemissing,]\n",
    "colnames(Stan)=c(\"id\",\"Time\",\"Status\",\"Age\",\"t5\",\"MisMatchLevel\",\"Over40\")"
   ]
  },
  {
   "cell_type": "markdown",
   "metadata": {},
   "source": [
    "## Fit Cox Model on categorical variables"
   ]
  },
  {
   "cell_type": "markdown",
   "metadata": {},
   "source": [
    "- For categorical variables, they will be expanded into one-hot encoding. If a categorical variable has n levels, they will be expanded into n-1 binary variables\n",
    "- the log of hazard if a linear function of the covariates\n",
    "- In Cox PH model, the survival function is\n",
    "$$ S(t) = e^{-\\lambda(t)t}$$\n",
    "- The Hazard function is\n",
    "$$\\lambda(t)=\\lambda_0(t)e^{\\beta_1X_1+\\beta_2X_2}$$\n",
    "or \n",
    "$$\\log \\lambda(t) = \\log \\lambda_0(t) + \\beta_1X_1+\\beta_2X_2$$\n",
    "- exp(coef) measures the ratio of the hazard function when, keep all other covariates equal, one covariate is activated (=1) compared to when its disabled (=0). exp(-coef) is ratio of the inverse.\n",
    "- Concordance is like \"AUC-ROC\" of a classification model."
   ]
  },
  {
   "cell_type": "code",
   "execution_count": 22,
   "metadata": {},
   "outputs": [
    {
     "data": {
      "text/plain": [
       "Call:\n",
       "coxph(formula = Surv(Time, Status) ~ Over40 + MisMatchLevel)\n",
       "\n",
       "  n= 157, number of events= 102 \n",
       "\n",
       "                 coef exp(coef) se(coef)     z Pr(>|z|)  \n",
       "Over401        0.5452    1.7249   0.2191 2.488   0.0128 *\n",
       "MisMatchLevel1 0.1275    1.1360   0.2083 0.612   0.5404  \n",
       "MisMatchLevel2 0.7548    2.1272   0.3896 1.937   0.0527 .\n",
       "---\n",
       "Signif. codes:  0 ‘***’ 0.001 ‘**’ 0.01 ‘*’ 0.05 ‘.’ 0.1 ‘ ’ 1\n",
       "\n",
       "               exp(coef) exp(-coef) lower .95 upper .95\n",
       "Over401            1.725     0.5797    1.1227     2.650\n",
       "MisMatchLevel1     1.136     0.8803    0.7552     1.709\n",
       "MisMatchLevel2     2.127     0.4701    0.9911     4.565\n",
       "\n",
       "Concordance= 0.557  (se = 0.032 )\n",
       "Likelihood ratio test= 9.31  on 3 df,   p=0.03\n",
       "Wald test            = 9.38  on 3 df,   p=0.02\n",
       "Score (logrank) test = 9.61  on 3 df,   p=0.02\n"
      ]
     },
     "metadata": {},
     "output_type": "display_data"
    }
   ],
   "source": [
    "cox.mod=with(\n",
    "    Stan,\n",
    "    {\n",
    "        coxph(Surv(Time,Status)~Over40+MisMatchLevel) \n",
    "    }\n",
    ")\n",
    "summary(cox.mod)"
   ]
  },
  {
   "cell_type": "markdown",
   "metadata": {},
   "source": [
    "## Fit Cox Model on continuous variables"
   ]
  },
  {
   "cell_type": "markdown",
   "metadata": {},
   "source": [
    "- Interpretation of exp(coef) on continuous variables\n",
    "\n",
    "Age has exp(coef) 1.030, this means that, keep all other things equal, if a patients' age is increased by 1 year, the hazard function will increase by 3%. Based on the definition of hazard function, this implies that the patient will be 3% more likely to die when the age is increased by 1 year. "
   ]
  },
  {
   "cell_type": "code",
   "execution_count": 25,
   "metadata": {},
   "outputs": [
    {
     "data": {
      "text/plain": [
       "Call:\n",
       "coxph(formula = Surv(Time, Status) ~ Age + t5)\n",
       "\n",
       "  n= 157, number of events= 102 \n",
       "\n",
       "       coef exp(coef) se(coef)     z Pr(>|z|)   \n",
       "Age 0.02961   1.03006  0.01136 2.608  0.00911 **\n",
       "t5  0.17041   1.18579  0.18326 0.930  0.35243   \n",
       "---\n",
       "Signif. codes:  0 ‘***’ 0.001 ‘**’ 0.01 ‘*’ 0.05 ‘.’ 0.1 ‘ ’ 1\n",
       "\n",
       "    exp(coef) exp(-coef) lower .95 upper .95\n",
       "Age     1.030     0.9708     1.007     1.053\n",
       "t5      1.186     0.8433     0.828     1.698\n",
       "\n",
       "Concordance= 0.59  (se = 0.034 )\n",
       "Likelihood ratio test= 8.47  on 2 df,   p=0.01\n",
       "Wald test            = 7.81  on 2 df,   p=0.02\n",
       "Score (logrank) test = 7.87  on 2 df,   p=0.02\n"
      ]
     },
     "metadata": {},
     "output_type": "display_data"
    }
   ],
   "source": [
    "cox.mod=with(\n",
    "    Stan,\n",
    "    {\n",
    "        coxph(Surv(Time,Status)~Age+t5) \n",
    "    }\n",
    ")\n",
    "summary(cox.mod)"
   ]
  }
 ],
 "metadata": {
  "kernelspec": {
   "display_name": "R [conda env:R4.1]",
   "language": "R",
   "name": "conda-env-R4.1-r"
  },
  "language_info": {
   "codemirror_mode": "r",
   "file_extension": ".r",
   "mimetype": "text/x-r-source",
   "name": "R",
   "pygments_lexer": "r",
   "version": "4.1.3"
  },
  "toc": {
   "base_numbering": 1,
   "nav_menu": {},
   "number_sections": true,
   "sideBar": true,
   "skip_h1_title": false,
   "title_cell": "Table of Contents",
   "title_sidebar": "Contents",
   "toc_cell": false,
   "toc_position": {},
   "toc_section_display": true,
   "toc_window_display": false
  }
 },
 "nbformat": 4,
 "nbformat_minor": 4
}

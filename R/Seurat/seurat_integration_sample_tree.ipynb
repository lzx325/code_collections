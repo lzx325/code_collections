{
 "cells": [
  {
   "cell_type": "code",
   "execution_count": 1,
   "metadata": {},
   "outputs": [
    {
     "name": "stderr",
     "output_type": "stream",
     "text": [
      "── \u001b[1mInstalled datasets\u001b[22m ───────────────────────────────────────────────────────────────────────────────────────────────────────────────────────────────────────────────────────────────────────────────────────────────────────────────────────────────────── SeuratData v0.2.1 ──\n",
      "\n",
      "\u001b[32m✔\u001b[39m \u001b[34mifnb  \u001b[39m 3.1.0                                                                                                                          \u001b[32m✔\u001b[39m \u001b[34mpbmc3k\u001b[39m 3.1.4\n",
      "\u001b[32m✔\u001b[39m \u001b[34mpanc8 \u001b[39m 3.0.2                                                                                                                          \n",
      "\n",
      "\n",
      "────────────────────────────────────────────────────────────────────────────────────────────────────────────────────────────────────── Key ─────────────────────────────────────────────────────────────────────────────────────────────────────────────────────────────────────\n",
      "\n",
      "\u001b[32m✔\u001b[39m Dataset loaded successfully\n",
      "\u001b[33m❯\u001b[39m Dataset built with a newer version of Seurat than installed\n",
      "\u001b[31m❓\u001b[39m Unknown version of Seurat installed\n",
      "\n",
      "\n"
     ]
    }
   ],
   "source": [
    "library(Seurat)\n",
    "library(SeuratData)"
   ]
  },
  {
   "cell_type": "code",
   "execution_count": 4,
   "metadata": {},
   "outputs": [],
   "source": [
    "data(\"panc8\")\n",
    "pancreas.list <- SplitObject(panc8, split.by = \"tech\")\n",
    "# pancreas.list <- pancreas.list[c(\"celseq\", \"celseq2\", \"fluidigmc1\", \"smartseq2\")]"
   ]
  },
  {
   "cell_type": "code",
   "execution_count": 5,
   "metadata": {},
   "outputs": [],
   "source": [
    "for (i in 1:length(pancreas.list)) {\n",
    "    pancreas.list[[i]] <- NormalizeData(pancreas.list[[i]], verbose = FALSE)\n",
    "    pancreas.list[[i]] <- FindVariableFeatures(pancreas.list[[i]], selection.method = \"vst\", nfeatures = 2000,\n",
    "        verbose = FALSE)\n",
    "}"
   ]
  },
  {
   "cell_type": "code",
   "execution_count": 7,
   "metadata": {},
   "outputs": [
    {
     "name": "stderr",
     "output_type": "stream",
     "text": [
      "Computing 2000 integration features\n",
      "\n",
      "Scaling features for provided objects\n",
      "\n",
      "Finding all pairwise anchors\n",
      "\n",
      "Running CCA\n",
      "\n",
      "Merging objects\n",
      "\n",
      "Finding neighborhoods\n",
      "\n",
      "Finding anchors\n",
      "\n",
      "\tFound 3499 anchors\n",
      "\n",
      "Filtering anchors\n",
      "\n",
      "\tRetained 2821 anchors\n",
      "\n",
      "Running CCA\n",
      "\n",
      "Merging objects\n",
      "\n",
      "Finding neighborhoods\n",
      "\n",
      "Finding anchors\n",
      "\n",
      "\tFound 2176 anchors\n",
      "\n",
      "Filtering anchors\n",
      "\n",
      "\tRetained 1841 anchors\n",
      "\n",
      "Running CCA\n",
      "\n",
      "Merging objects\n",
      "\n",
      "Finding neighborhoods\n",
      "\n",
      "Finding anchors\n",
      "\n",
      "\tFound 2775 anchors\n",
      "\n",
      "Filtering anchors\n",
      "\n",
      "\tRetained 2479 anchors\n",
      "\n",
      "Running CCA\n",
      "\n",
      "Merging objects\n",
      "\n",
      "Finding neighborhoods\n",
      "\n",
      "Finding anchors\n",
      "\n",
      "\tFound 3516 anchors\n",
      "\n",
      "Filtering anchors\n",
      "\n",
      "\tRetained 2701 anchors\n",
      "\n",
      "Running CCA\n",
      "\n",
      "Merging objects\n",
      "\n",
      "Finding neighborhoods\n",
      "\n",
      "Finding anchors\n",
      "\n",
      "\tFound 6173 anchors\n",
      "\n",
      "Filtering anchors\n",
      "\n",
      "\tRetained 4635 anchors\n",
      "\n",
      "Running CCA\n",
      "\n",
      "Merging objects\n",
      "\n",
      "Finding neighborhoods\n",
      "\n",
      "Finding anchors\n",
      "\n",
      "\tFound 2723 anchors\n",
      "\n",
      "Filtering anchors\n",
      "\n",
      "\tRetained 1768 anchors\n",
      "\n"
     ]
    }
   ],
   "source": [
    "reference.list <- pancreas.list[c(\"celseq\", \"celseq2\", \"fluidigmc1\", \"smartseq2\")]\n",
    "pancreas.anchors <- FindIntegrationAnchors(object.list = reference.list, dims = 1:30, verbose=TRUE)"
   ]
  },
  {
   "cell_type": "code",
   "execution_count": 15,
   "metadata": {},
   "outputs": [
    {
     "name": "stdout",
     "output_type": "stream",
     "text": [
      "     [,1] [,2]\n",
      "[1,]   -2   -3\n",
      "[2,]    1   -1\n",
      "[3,]    2   -4\n"
     ]
    },
    {
     "name": "stderr",
     "output_type": "stream",
     "text": [
      "Merging dataset 3 into 2\n",
      "\n",
      "Extracting anchors for merged samples\n",
      "\n",
      "Finding integration vectors\n",
      "\n",
      "Finding integration vector weights\n",
      "\n",
      "Integrating data\n",
      "\n",
      "Merging dataset 1 into 2 3\n",
      "\n",
      "Extracting anchors for merged samples\n",
      "\n",
      "Finding integration vectors\n",
      "\n",
      "Finding integration vector weights\n",
      "\n",
      "Integrating data\n",
      "\n",
      "Merging dataset 4 into 2 3 1\n",
      "\n",
      "Extracting anchors for merged samples\n",
      "\n",
      "Finding integration vectors\n",
      "\n",
      "Finding integration vector weights\n",
      "\n",
      "Integrating data\n",
      "\n",
      "Warning message:\n",
      "“Adding a command log without an assay associated with it”\n"
     ]
    }
   ],
   "source": [
    "sample.tree=rbind(\n",
    "    c(-2,-3), # 3->2\n",
    "    c(1,-1), # 1->{2,3}\n",
    "    c(2,-4) # 4->{2,3,1}\n",
    ")\n",
    "print(sample.tree)\n",
    "expr.integrated <- IntegrateData(anchorset = pancreas.anchors, dims = 1:30, sample.tree=sample.tree)"
   ]
  },
  {
   "cell_type": "code",
   "execution_count": 27,
   "metadata": {},
   "outputs": [
    {
     "name": "stdout",
     "output_type": "stream",
     "text": [
      "     [,1] [,2]\n",
      "[1,]   -1   -2\n",
      "[2,]    1   -4\n",
      "[3,]    2   -3\n"
     ]
    },
    {
     "name": "stderr",
     "output_type": "stream",
     "text": [
      "Merging dataset 2 into 1\n",
      "\n",
      "Extracting anchors for merged samples\n",
      "\n",
      "Finding integration vectors\n",
      "\n",
      "Finding integration vector weights\n",
      "\n",
      "Integrating data\n",
      "\n",
      "Merging dataset 4 into 1 2\n",
      "\n",
      "Extracting anchors for merged samples\n",
      "\n",
      "Finding integration vectors\n",
      "\n",
      "Finding integration vector weights\n",
      "\n",
      "Integrating data\n",
      "\n",
      "Merging dataset 3 into 1 2 4\n",
      "\n",
      "Extracting anchors for merged samples\n",
      "\n",
      "Finding integration vectors\n",
      "\n",
      "Finding integration vector weights\n",
      "\n",
      "Integrating data\n",
      "\n",
      "Warning message:\n",
      "“Adding a command log without an assay associated with it”\n"
     ]
    }
   ],
   "source": [
    "sample.tree=rbind(\n",
    "    c(-1,-2), # 2->1\n",
    "    c(1,-4), # 4->{1,2}\n",
    "    c(2,-3) # 3->{1,2,4}\n",
    ")\n",
    "print(sample.tree)\n",
    "expr.integrated <- IntegrateData(anchorset = pancreas.anchors, dims = 1:30, sample.tree=sample.tree, preserve.order=TRUE)\n",
    "# preserve.order=TRUE guarantees that 2 is merged to 1 and not 1 merged to 2"
   ]
  },
  {
   "cell_type": "code",
   "execution_count": 26,
   "metadata": {},
   "outputs": [
    {
     "name": "stdout",
     "output_type": "stream",
     "text": [
      "[1] FALSE\n",
      "[1] TRUE\n"
     ]
    }
   ],
   "source": [
    "genes=rownames(expr.integrated)\n",
    "\n",
    "# dataset 1, celseq is changed\n",
    "print(\n",
    "    all(\n",
    "        expr.integrated[genes,expr.integrated$tech==\"celseq\"][[\"integrated\"]]@data\n",
    "        ==expr.integrated[genes,expr.integrated$tech==\"celseq\"][[\"RNA\"]]@data\n",
    "    )\n",
    ")\n",
    "\n",
    "# dataset 2, celseq2 is unchanged\n",
    "print(\n",
    "    all(\n",
    "        expr.integrated[genes,expr.integrated$tech==\"celseq2\"][[\"integrated\"]]@data\n",
    "        ==expr.integrated[genes,expr.integrated$tech==\"celseq2\"][[\"RNA\"]]@data\n",
    "    )\n",
    ")"
   ]
  }
 ],
 "metadata": {
  "kernelspec": {
   "display_name": "R [conda env:R4.0]",
   "language": "R",
   "name": "conda-env-R4.0-r"
  },
  "language_info": {
   "codemirror_mode": "r",
   "file_extension": ".r",
   "mimetype": "text/x-r-source",
   "name": "R",
   "pygments_lexer": "r",
   "version": "4.0.5"
  },
  "toc": {
   "base_numbering": 1,
   "nav_menu": {},
   "number_sections": true,
   "sideBar": true,
   "skip_h1_title": false,
   "title_cell": "Table of Contents",
   "title_sidebar": "Contents",
   "toc_cell": false,
   "toc_position": {},
   "toc_section_display": true,
   "toc_window_display": false
  }
 },
 "nbformat": 4,
 "nbformat_minor": 4
}
